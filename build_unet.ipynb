{
 "cells": [
  {
   "cell_type": "code",
   "execution_count": 115,
   "metadata": {},
   "outputs": [],
   "source": [
    "from tensorflow.keras.models import Model\n",
    "from tensorflow.keras.layers import Input, Conv2D, MaxPooling2D, UpSampling2D, Concatenate, Conv2DTranspose, BatchNormalization, Dropout, Lambda\n",
    "from tensorflow.keras.optimizers import Adam"
   ]
  },
  {
   "cell_type": "code",
   "execution_count": 124,
   "metadata": {},
   "outputs": [],
   "source": [
    "img_height = 256\n",
    "img_width = 256\n",
    "img_channels = 3"
   ]
  },
  {
   "cell_type": "code",
   "execution_count": 76,
   "metadata": {},
   "outputs": [],
   "source": [
    "def encoderBlock(input_layer,filters):\n",
    "    c1 = Conv2D(filters,3,activation='relu',padding=\"same\",input_shape=input_layer.shape)(input_layer)\n",
    "    c2 = Conv2D(filters,3,activation='relu',padding=\"same\",input_shape=input_layer.shape)(c1)\n",
    "    m1 = MaxPooling2D(pool_size=2,padding='valid')(c2)\n",
    "    return m1,c2"
   ]
  },
  {
   "cell_type": "code",
   "execution_count": 105,
   "metadata": {},
   "outputs": [],
   "source": [
    "def decoderBlock(input_layer,filters,skip):\n",
    "    t1 = Conv2DTranspose(filters,(2,2),strides=2, padding='valid')(input_layer)\n",
    "    t1 = Concatenate()([t1,skip])\n",
    "    c1 = Conv2D(filters,3,activation='relu',padding=\"same\")(t1)\n",
    "    c2 = Conv2D(filters,3,activation='relu',padding=\"same\")(c1)\n",
    "    return c2"
   ]
  },
  {
   "cell_type": "code",
   "execution_count": 118,
   "metadata": {},
   "outputs": [],
   "source": [
    "def build_unet(input_shape,num_classes):\n",
    "\n",
    "    Input_layer = Input(shape=input_shape)\n",
    "    block1,skip1 = encoderBlock(Input_layer,64)\n",
    "    block2,skip2 = encoderBlock(block1,128)\n",
    "    block3,skip3 = encoderBlock(block2,256)\n",
    "    block4,skip4 = encoderBlock(block3,512)\n",
    "\n",
    "    final_encoder_block = Conv2D(1024,3,activation='relu',padding='same')(Conv2D(1024,3,activation='relu',padding='same')(block4))\n",
    "\n",
    "    block5 = decoderBlock(final_encoder_block,512,skip4)\n",
    "    block6 = decoderBlock(block5,256,skip3)\n",
    "    block7 = decoderBlock(block6,128,skip2)\n",
    "    block8 = decoderBlock(block7,64,skip1)\n",
    "\n",
    "    if num_classes==1:\n",
    "        activation=\"sigmoid\"\n",
    "    else:\n",
    "        activation=\"softmax\"\n",
    "\n",
    "    output = Conv2D(filters=num_classes,kernel_size=1,activation=activation,padding='same')(block8)\n",
    "    model = Model(Input_layer,output,name=\"U-Net\")\n",
    "    return model"
   ]
  },
  {
   "cell_type": "code",
   "execution_count": 120,
   "metadata": {},
   "outputs": [],
   "source": [
    "unet_model = build_unet((img_height,img_width,img_channels),1)"
   ]
  },
  {
   "cell_type": "code",
   "execution_count": 127,
   "metadata": {},
   "outputs": [
    {
     "name": "stdout",
     "output_type": "stream",
     "text": [
      "Model: \"U-Net\"\n",
      "____________________________________________________________________________________________________\n",
      " Layer (type)                 Output Shape                  Param #   Connected to                  \n",
      "====================================================================================================\n",
      " input_4 (InputLayer)         [(None, 256, 256, 3)]         0         []                            \n",
      "                                                                                                    \n",
      " conv2d_90 (Conv2D)           (None, 256, 256, 64)          1792      ['input_4[0][0]']             \n",
      "                                                                                                    \n",
      " conv2d_91 (Conv2D)           (None, 256, 256, 64)          36928     ['conv2d_90[0][0]']           \n",
      "                                                                                                    \n",
      " max_pooling2d_24 (MaxPoolin  (None, 128, 128, 64)          0         ['conv2d_91[0][0]']           \n",
      " g2D)                                                                                               \n",
      "                                                                                                    \n",
      " conv2d_92 (Conv2D)           (None, 128, 128, 128)         73856     ['max_pooling2d_24[0][0]']    \n",
      "                                                                                                    \n",
      " conv2d_93 (Conv2D)           (None, 128, 128, 128)         147584    ['conv2d_92[0][0]']           \n",
      "                                                                                                    \n",
      " max_pooling2d_25 (MaxPoolin  (None, 64, 64, 128)           0         ['conv2d_93[0][0]']           \n",
      " g2D)                                                                                               \n",
      "                                                                                                    \n",
      " conv2d_94 (Conv2D)           (None, 64, 64, 256)           295168    ['max_pooling2d_25[0][0]']    \n",
      "                                                                                                    \n",
      " conv2d_95 (Conv2D)           (None, 64, 64, 256)           590080    ['conv2d_94[0][0]']           \n",
      "                                                                                                    \n",
      " max_pooling2d_26 (MaxPoolin  (None, 32, 32, 256)           0         ['conv2d_95[0][0]']           \n",
      " g2D)                                                                                               \n",
      "                                                                                                    \n",
      " conv2d_96 (Conv2D)           (None, 32, 32, 512)           1180160   ['max_pooling2d_26[0][0]']    \n",
      "                                                                                                    \n",
      " conv2d_97 (Conv2D)           (None, 32, 32, 512)           2359808   ['conv2d_96[0][0]']           \n",
      "                                                                                                    \n",
      " max_pooling2d_27 (MaxPoolin  (None, 16, 16, 512)           0         ['conv2d_97[0][0]']           \n",
      " g2D)                                                                                               \n",
      "                                                                                                    \n",
      " conv2d_99 (Conv2D)           (None, 16, 16, 1024)          4719616   ['max_pooling2d_27[0][0]']    \n",
      "                                                                                                    \n",
      " conv2d_98 (Conv2D)           (None, 16, 16, 1024)          9438208   ['conv2d_99[0][0]']           \n",
      "                                                                                                    \n",
      " conv2d_transpose_20 (Conv2D  (None, 32, 32, 512)           2097664   ['conv2d_98[0][0]']           \n",
      " Transpose)                                                                                         \n",
      "                                                                                                    \n",
      " concatenate_16 (Concatenate  (None, 32, 32, 1024)          0         ['conv2d_transpose_20[0][0]', \n",
      " )                                                                     'conv2d_97[0][0]']           \n",
      "                                                                                                    \n",
      " conv2d_100 (Conv2D)          (None, 32, 32, 512)           4719104   ['concatenate_16[0][0]']      \n",
      "                                                                                                    \n",
      " conv2d_101 (Conv2D)          (None, 32, 32, 512)           2359808   ['conv2d_100[0][0]']          \n",
      "                                                                                                    \n",
      " conv2d_transpose_21 (Conv2D  (None, 64, 64, 256)           524544    ['conv2d_101[0][0]']          \n",
      " Transpose)                                                                                         \n",
      "                                                                                                    \n",
      " concatenate_17 (Concatenate  (None, 64, 64, 512)           0         ['conv2d_transpose_21[0][0]', \n",
      " )                                                                     'conv2d_95[0][0]']           \n",
      "                                                                                                    \n",
      " conv2d_102 (Conv2D)          (None, 64, 64, 256)           1179904   ['concatenate_17[0][0]']      \n",
      "                                                                                                    \n",
      " conv2d_103 (Conv2D)          (None, 64, 64, 256)           590080    ['conv2d_102[0][0]']          \n",
      "                                                                                                    \n",
      " conv2d_transpose_22 (Conv2D  (None, 128, 128, 128)         131200    ['conv2d_103[0][0]']          \n",
      " Transpose)                                                                                         \n",
      "                                                                                                    \n",
      " concatenate_18 (Concatenate  (None, 128, 128, 256)         0         ['conv2d_transpose_22[0][0]', \n",
      " )                                                                     'conv2d_93[0][0]']           \n",
      "                                                                                                    \n",
      " conv2d_104 (Conv2D)          (None, 128, 128, 128)         295040    ['concatenate_18[0][0]']      \n",
      "                                                                                                    \n",
      " conv2d_105 (Conv2D)          (None, 128, 128, 128)         147584    ['conv2d_104[0][0]']          \n",
      "                                                                                                    \n",
      " conv2d_transpose_23 (Conv2D  (None, 256, 256, 64)          32832     ['conv2d_105[0][0]']          \n",
      " Transpose)                                                                                         \n",
      "                                                                                                    \n",
      " concatenate_19 (Concatenate  (None, 256, 256, 128)         0         ['conv2d_transpose_23[0][0]', \n",
      " )                                                                     'conv2d_91[0][0]']           \n",
      "                                                                                                    \n",
      " conv2d_106 (Conv2D)          (None, 256, 256, 64)          73792     ['concatenate_19[0][0]']      \n",
      "                                                                                                    \n",
      " conv2d_107 (Conv2D)          (None, 256, 256, 64)          36928     ['conv2d_106[0][0]']          \n",
      "                                                                                                    \n",
      " conv2d_108 (Conv2D)          (None, 256, 256, 1)           65        ['conv2d_107[0][0]']          \n",
      "                                                                                                    \n",
      "====================================================================================================\n",
      "Total params: 31031745 (118.38 MB)\n",
      "Trainable params: 31031745 (118.38 MB)\n",
      "Non-trainable params: 0 (0.00 Byte)\n",
      "____________________________________________________________________________________________________\n",
      "None\n"
     ]
    }
   ],
   "source": [
    "print(unet_model.summary(line_length=100))"
   ]
  },
  {
   "cell_type": "code",
   "execution_count": 125,
   "metadata": {},
   "outputs": [],
   "source": [
    "unet_model.compile(loss='binary_crossentropy',optimizer=Adam(learning_rate=1e-3),metrics=['accuracy'])"
   ]
  },
  {
   "cell_type": "code",
   "execution_count": null,
   "metadata": {},
   "outputs": [],
   "source": []
  },
  {
   "cell_type": "code",
   "execution_count": null,
   "metadata": {},
   "outputs": [],
   "source": []
  }
 ],
 "metadata": {
  "kernelspec": {
   "display_name": "env",
   "language": "python",
   "name": "python3"
  },
  "language_info": {
   "codemirror_mode": {
    "name": "ipython",
    "version": 3
   },
   "file_extension": ".py",
   "mimetype": "text/x-python",
   "name": "python",
   "nbconvert_exporter": "python",
   "pygments_lexer": "ipython3",
   "version": "3.11.3"
  },
  "orig_nbformat": 4
 },
 "nbformat": 4,
 "nbformat_minor": 2
}
