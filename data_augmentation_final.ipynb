{
 "cells": [
  {
   "cell_type": "code",
   "execution_count": 1,
   "metadata": {},
   "outputs": [],
   "source": [
    "from tensorflow.keras.utils import normalize\n",
    "import os\n",
    "import cv2\n",
    "from PIL import Image\n",
    "import numpy as np\n",
    "from matplotlib import pyplot as plt\n",
    "from sklearn.preprocessing import MinMaxScaler\n",
    "from keras.optimizers import Adam\n",
    "import glob\n",
    "import random\n",
    "import matplotlib.pyplot as plt\n",
    "import tensorflow as tf\n",
    "from tensorflow.keras import layers\n",
    "from sklearn.model_selection import train_test_split"
   ]
  },
  {
   "cell_type": "code",
   "execution_count": 14,
   "metadata": {},
   "outputs": [],
   "source": [
    "IMG_SIZE = 256\n",
    "batch_size = 32\n",
    "AUTOTUNE = tf.data.AUTOTUNE"
   ]
  },
  {
   "cell_type": "code",
   "execution_count": 2,
   "metadata": {},
   "outputs": [],
   "source": [
    "image_directory = './data/images'\n",
    "mask_directory = './data/masks'"
   ]
  },
  {
   "cell_type": "code",
   "execution_count": 3,
   "metadata": {},
   "outputs": [],
   "source": [
    "image_names = glob.glob(\"./data/images/*.png\")\n",
    "mask_names = glob.glob(\"./data/masks/*.png\")"
   ]
  },
  {
   "cell_type": "code",
   "execution_count": 4,
   "metadata": {},
   "outputs": [],
   "source": [
    "image_names.sort()\n",
    "mask_names.sort()\n",
    "subset_length = 100\n",
    "image_names = image_names[:subset_length]\n",
    "mask_names = mask_names[:subset_length]"
   ]
  },
  {
   "cell_type": "code",
   "execution_count": 5,
   "metadata": {},
   "outputs": [],
   "source": [
    "def display_image(cv2_img,cv2_mask):\n",
    "    plt.figure(figsize=(12, 6))\n",
    "    plt.subplot(121)\n",
    "    plt.imshow(cv2_img, cmap='gray')\n",
    "    plt.subplot(122)\n",
    "    plt.imshow(cv2_mask, cmap='gray')\n",
    "    plt.show()"
   ]
  },
  {
   "cell_type": "code",
   "execution_count": 6,
   "metadata": {},
   "outputs": [],
   "source": [
    "# reading images and mask\n",
    "images = [cv2.imread(img, 0) for img in image_names]\n",
    "masks = [cv2.imread(img,0) for img in mask_names]"
   ]
  },
  {
   "cell_type": "code",
   "execution_count": 7,
   "metadata": {},
   "outputs": [],
   "source": [
    "# converting images into a numpy array and expanding the dimension of each image\n",
    "image_dataset = np.array(images)\n",
    "image_dataset = np.expand_dims(image_dataset, axis = 3)\n",
    "mask_dataset = np.array(masks)\n",
    "mask_dataset = np.expand_dims(mask_dataset,axis=3)"
   ]
  },
  {
   "cell_type": "markdown",
   "metadata": {},
   "source": [
    "Using tf.image for preprocessing images"
   ]
  },
  {
   "cell_type": "code",
   "execution_count": 11,
   "metadata": {},
   "outputs": [],
   "source": [
    "def resize_and_rescale(image):\n",
    "  image = tf.cast(image, tf.float32)\n",
    "  image = tf.image.resize(image, [IMG_SIZE, IMG_SIZE])\n",
    "  image = (image / 255.0)\n",
    "  return image"
   ]
  },
  {
   "cell_type": "code",
   "execution_count": 12,
   "metadata": {},
   "outputs": [],
   "source": [
    "def augment(image_label, seed):\n",
    "  \n",
    "  image, label = image_label\n",
    "  \n",
    "  image = resize_and_rescale(image)\n",
    "  label = resize_and_rescale(label)\n",
    "\n",
    "  image = tf.image.stateless_random_crop(value=image,size=(IMG_SIZE,IMG_SIZE,1),seed=seed)\n",
    "  label = tf.image.stateless_random_crop(value=label,size=(IMG_SIZE,IMG_SIZE,1),seed=seed)\n",
    "\n",
    "  image = tf.image.stateless_random_flip_left_right(image,seed=seed)\n",
    "  label = tf.image.stateless_random_flip_left_right(label,seed=seed)\n",
    "\n",
    "  image = tf.image.stateless_random_flip_up_down(image,seed=seed)\n",
    "  label = tf.image.stateless_random_flip_up_down(label,seed=seed)\n",
    "  \n",
    "# [-max_delta, max_delta]\n",
    "  image = tf.image.stateless_random_brightness(image,max_delta=0.2,seed=seed)\n",
    "  label = tf.image.stateless_random_brightness(label,max_delta=0.2,seed=seed)\n",
    "\n",
    "# [1.0 - lower, 1.0 + upper]\n",
    "  image = tf.image.stateless_random_contrast(image,lower=0.2,upper=0.5,seed=seed)\n",
    "  label = tf.image.stateless_random_contrast(label,lower=0.2,upper=0.5,seed=seed)\n",
    "\n",
    "  return image, label"
   ]
  },
  {
   "cell_type": "code",
   "execution_count": 19,
   "metadata": {},
   "outputs": [],
   "source": [
    "random_number_generator = tf.random.Generator.from_seed(123, alg='philox')\n",
    "def transform_images(x, y):\n",
    "  seed = random_number_generator.make_seeds(2)[0]\n",
    "  image, label = augment((x, y), seed)\n",
    "  return image, label"
   ]
  },
  {
   "cell_type": "code",
   "execution_count": 15,
   "metadata": {},
   "outputs": [],
   "source": [
    "X_train, X_test, y_train, y_test = train_test_split(image_dataset, mask_dataset, test_size = 0.20, random_state = 42)"
   ]
  },
  {
   "cell_type": "code",
   "execution_count": 16,
   "metadata": {},
   "outputs": [],
   "source": [
    "# converting images from numpy to tf.Data\n",
    "train_dataset = tf.data.Dataset.from_tensor_slices((X_train, y_train))\n",
    "test_dataset = tf.data.Dataset.from_tensor_slices((X_test, y_test))"
   ]
  },
  {
   "cell_type": "code",
   "execution_count": 20,
   "metadata": {},
   "outputs": [],
   "source": [
    "# Applying augmentation, shuffling and batching\n",
    "\n",
    "train_ds = (\n",
    "    train_dataset\n",
    "    .shuffle(50)\n",
    "    .repeat(20)\n",
    "    .map(transform_images, num_parallel_calls=AUTOTUNE)\n",
    "    .batch(batch_size)\n",
    "    .prefetch(AUTOTUNE)\n",
    ")\n",
    "\n",
    "test_ds = (\n",
    "    test_dataset\n",
    "    .shuffle(50)\n",
    "    .repeat(20)\n",
    "    .map(transform_images, num_parallel_calls=AUTOTUNE)\n",
    "    .batch(batch_size)\n",
    "    .prefetch(AUTOTUNE)\n",
    ")"
   ]
  }
 ],
 "metadata": {
  "kernelspec": {
   "display_name": "env",
   "language": "python",
   "name": "python3"
  },
  "language_info": {
   "codemirror_mode": {
    "name": "ipython",
    "version": 3
   },
   "file_extension": ".py",
   "mimetype": "text/x-python",
   "name": "python",
   "nbconvert_exporter": "python",
   "pygments_lexer": "ipython3",
   "version": "3.11.3"
  },
  "orig_nbformat": 4
 },
 "nbformat": 4,
 "nbformat_minor": 2
}
